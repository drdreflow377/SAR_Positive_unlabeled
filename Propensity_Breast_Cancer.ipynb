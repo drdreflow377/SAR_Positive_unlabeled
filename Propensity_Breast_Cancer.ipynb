{
 "cells": [
  {
   "cell_type": "markdown",
   "id": "9cdef481",
   "metadata": {},
   "source": [
    "# Positive and Unlabeled Learning\n",
    "### simulating unlabeled data in the breast cancer data set, then building a classifer using propensity\n",
    "\n",
    "Uses Selected at Random Assumption and propensity. Adapted from \"Machine Learning from Weak Supervision\"\n",
    "https://mitpress.mit.edu/9780262047074/machine-learning-from-weak-supervision/"
   ]
  },
  {
   "cell_type": "markdown",
   "id": "25d74a16",
   "metadata": {},
   "source": [
    "# Load Libraries"
   ]
  },
  {
   "cell_type": "code",
   "id": "04ecfa8c",
   "metadata": {
    "ExecuteTime": {
     "end_time": "2024-06-30T13:45:34.660511Z",
     "start_time": "2024-06-30T13:45:34.646498Z"
    }
   },
   "source": [
    "\n",
    "from sklearn.model_selection import train_test_split\n",
    "from sklearn.preprocessing import StandardScaler\n",
    "from sklearn.datasets import load_breast_cancer\n",
    "import pandas as pd\n",
    "import numpy as np\n",
    "\n",
    "# Propensity Ops functions\n",
    "import sar_propensity.sar_propensity as sar\n",
    "\n",
    "#from sar_propensity.propensity_ops import estimate_propensity_scores, compute_class_weights, train_pu_model, calculate_optimal_threshold"
   ],
   "outputs": [],
   "execution_count": 23
  },
  {
   "metadata": {
    "ExecuteTime": {
     "end_time": "2024-06-30T13:45:34.740582Z",
     "start_time": "2024-06-30T13:45:34.734576Z"
    }
   },
   "cell_type": "code",
   "source": "",
   "id": "bbc55eb52c5bfb9",
   "outputs": [],
   "execution_count": 23
  },
  {
   "metadata": {
    "ExecuteTime": {
     "end_time": "2024-06-30T13:45:34.772609Z",
     "start_time": "2024-06-30T13:45:34.757596Z"
    }
   },
   "cell_type": "code",
   "source": "",
   "id": "b3401ddc8a1b176e",
   "outputs": [],
   "execution_count": 23
  },
  {
   "cell_type": "markdown",
   "id": "c5b5838e",
   "metadata": {},
   "source": [
    "# Load Data"
   ]
  },
  {
   "cell_type": "code",
   "id": "c745681d",
   "metadata": {
    "ExecuteTime": {
     "end_time": "2024-06-30T13:45:34.804637Z",
     "start_time": "2024-06-30T13:45:34.788624Z"
    }
   },
   "source": [
    "### subgroup will be defined as (df['mean radius'] > df['mean radius'].median()) & (df['mean texture'] > df['mean texture'].median())\n",
    "### we will be using mean radius and mean texture as the features to define the subgroup specifically where the mean exceeds the median\n",
    "\n",
    "\n",
    "\n",
    "# Load the breast cancer dataset\n",
    "data = load_breast_cancer()\n",
    "df = pd.DataFrame(data.data, columns=data.feature_names)\n",
    "df['target'] = data.target\n",
    "\n",
    "# Create a boolean mask for the subgroup\n",
    "# Adjust the conditions as needed to define your subgroup\n",
    "subgroup_mask = (df['mean radius'] > df['mean radius'].median()) & (df['mean texture'] > df['mean texture'].median())\n",
    "\n",
    "# Create a new column 'subgroup' to track the subgroup\n",
    "df['subgroup'] = subgroup_mask"
   ],
   "outputs": [],
   "execution_count": 24
  },
  {
   "cell_type": "markdown",
   "id": "cc2b8a57",
   "metadata": {},
   "source": [
    "# Mask some of the labels from the subgroup\n",
    "# Here we randomly mask 50% of the subgroup labels"
   ]
  },
  {
   "cell_type": "code",
   "id": "e0acb8c1435f1320",
   "metadata": {
    "ExecuteTime": {
     "end_time": "2024-06-30T13:45:34.820651Z",
     "start_time": "2024-06-30T13:45:34.805639Z"
    }
   },
   "source": [
    "\n",
    "mask = np.random.rand(len(df)) < 0.5\n",
    "df.loc[subgroup_mask, 'target'] = df.loc[subgroup_mask, 'target'].mask(mask[subgroup_mask])\n",
    "\n",
    "# Set all other labels outside the subgroup to 0\n",
    "df.loc[~subgroup_mask, 'target'] = 0\n",
    "\n",
    "# Hold back the true labels for all instances\n",
    "df['true_labels_all'] = data.target\n",
    "\n",
    "# Hold back the true labels for just the subgroup\n",
    "df['true_labels_subgroup'] = df['target'].where(subgroup_mask, np.nan)"
   ],
   "outputs": [],
   "execution_count": 25
  },
  {
   "cell_type": "code",
   "id": "1140c231165fcab5",
   "metadata": {
    "ExecuteTime": {
     "end_time": "2024-06-30T13:45:34.852680Z",
     "start_time": "2024-06-30T13:45:34.826657Z"
    }
   },
   "source": [
    "df.head()"
   ],
   "outputs": [
    {
     "data": {
      "text/plain": [
       "   mean radius  mean texture  mean perimeter  mean area  mean smoothness  \\\n",
       "0        17.99         10.38          122.80     1001.0          0.11840   \n",
       "1        20.57         17.77          132.90     1326.0          0.08474   \n",
       "2        19.69         21.25          130.00     1203.0          0.10960   \n",
       "3        11.42         20.38           77.58      386.1          0.14250   \n",
       "4        20.29         14.34          135.10     1297.0          0.10030   \n",
       "\n",
       "   mean compactness  mean concavity  mean concave points  mean symmetry  \\\n",
       "0           0.27760          0.3001              0.14710         0.2419   \n",
       "1           0.07864          0.0869              0.07017         0.1812   \n",
       "2           0.15990          0.1974              0.12790         0.2069   \n",
       "3           0.28390          0.2414              0.10520         0.2597   \n",
       "4           0.13280          0.1980              0.10430         0.1809   \n",
       "\n",
       "   mean fractal dimension  ...  worst smoothness  worst compactness  \\\n",
       "0                 0.07871  ...            0.1622             0.6656   \n",
       "1                 0.05667  ...            0.1238             0.1866   \n",
       "2                 0.05999  ...            0.1444             0.4245   \n",
       "3                 0.09744  ...            0.2098             0.8663   \n",
       "4                 0.05883  ...            0.1374             0.2050   \n",
       "\n",
       "   worst concavity  worst concave points  worst symmetry  \\\n",
       "0           0.7119                0.2654          0.4601   \n",
       "1           0.2416                0.1860          0.2750   \n",
       "2           0.4504                0.2430          0.3613   \n",
       "3           0.6869                0.2575          0.6638   \n",
       "4           0.4000                0.1625          0.2364   \n",
       "\n",
       "   worst fractal dimension  target  subgroup  true_labels_all  \\\n",
       "0                  0.11890     0.0     False                0   \n",
       "1                  0.08902     0.0     False                0   \n",
       "2                  0.08758     0.0      True                0   \n",
       "3                  0.17300     0.0     False                0   \n",
       "4                  0.07678     0.0     False                0   \n",
       "\n",
       "   true_labels_subgroup  \n",
       "0                   NaN  \n",
       "1                   NaN  \n",
       "2                   0.0  \n",
       "3                   NaN  \n",
       "4                   NaN  \n",
       "\n",
       "[5 rows x 34 columns]"
      ],
      "text/html": [
       "<div>\n",
       "<style scoped>\n",
       "    .dataframe tbody tr th:only-of-type {\n",
       "        vertical-align: middle;\n",
       "    }\n",
       "\n",
       "    .dataframe tbody tr th {\n",
       "        vertical-align: top;\n",
       "    }\n",
       "\n",
       "    .dataframe thead th {\n",
       "        text-align: right;\n",
       "    }\n",
       "</style>\n",
       "<table border=\"1\" class=\"dataframe\">\n",
       "  <thead>\n",
       "    <tr style=\"text-align: right;\">\n",
       "      <th></th>\n",
       "      <th>mean radius</th>\n",
       "      <th>mean texture</th>\n",
       "      <th>mean perimeter</th>\n",
       "      <th>mean area</th>\n",
       "      <th>mean smoothness</th>\n",
       "      <th>mean compactness</th>\n",
       "      <th>mean concavity</th>\n",
       "      <th>mean concave points</th>\n",
       "      <th>mean symmetry</th>\n",
       "      <th>mean fractal dimension</th>\n",
       "      <th>...</th>\n",
       "      <th>worst smoothness</th>\n",
       "      <th>worst compactness</th>\n",
       "      <th>worst concavity</th>\n",
       "      <th>worst concave points</th>\n",
       "      <th>worst symmetry</th>\n",
       "      <th>worst fractal dimension</th>\n",
       "      <th>target</th>\n",
       "      <th>subgroup</th>\n",
       "      <th>true_labels_all</th>\n",
       "      <th>true_labels_subgroup</th>\n",
       "    </tr>\n",
       "  </thead>\n",
       "  <tbody>\n",
       "    <tr>\n",
       "      <th>0</th>\n",
       "      <td>17.99</td>\n",
       "      <td>10.38</td>\n",
       "      <td>122.80</td>\n",
       "      <td>1001.0</td>\n",
       "      <td>0.11840</td>\n",
       "      <td>0.27760</td>\n",
       "      <td>0.3001</td>\n",
       "      <td>0.14710</td>\n",
       "      <td>0.2419</td>\n",
       "      <td>0.07871</td>\n",
       "      <td>...</td>\n",
       "      <td>0.1622</td>\n",
       "      <td>0.6656</td>\n",
       "      <td>0.7119</td>\n",
       "      <td>0.2654</td>\n",
       "      <td>0.4601</td>\n",
       "      <td>0.11890</td>\n",
       "      <td>0.0</td>\n",
       "      <td>False</td>\n",
       "      <td>0</td>\n",
       "      <td>NaN</td>\n",
       "    </tr>\n",
       "    <tr>\n",
       "      <th>1</th>\n",
       "      <td>20.57</td>\n",
       "      <td>17.77</td>\n",
       "      <td>132.90</td>\n",
       "      <td>1326.0</td>\n",
       "      <td>0.08474</td>\n",
       "      <td>0.07864</td>\n",
       "      <td>0.0869</td>\n",
       "      <td>0.07017</td>\n",
       "      <td>0.1812</td>\n",
       "      <td>0.05667</td>\n",
       "      <td>...</td>\n",
       "      <td>0.1238</td>\n",
       "      <td>0.1866</td>\n",
       "      <td>0.2416</td>\n",
       "      <td>0.1860</td>\n",
       "      <td>0.2750</td>\n",
       "      <td>0.08902</td>\n",
       "      <td>0.0</td>\n",
       "      <td>False</td>\n",
       "      <td>0</td>\n",
       "      <td>NaN</td>\n",
       "    </tr>\n",
       "    <tr>\n",
       "      <th>2</th>\n",
       "      <td>19.69</td>\n",
       "      <td>21.25</td>\n",
       "      <td>130.00</td>\n",
       "      <td>1203.0</td>\n",
       "      <td>0.10960</td>\n",
       "      <td>0.15990</td>\n",
       "      <td>0.1974</td>\n",
       "      <td>0.12790</td>\n",
       "      <td>0.2069</td>\n",
       "      <td>0.05999</td>\n",
       "      <td>...</td>\n",
       "      <td>0.1444</td>\n",
       "      <td>0.4245</td>\n",
       "      <td>0.4504</td>\n",
       "      <td>0.2430</td>\n",
       "      <td>0.3613</td>\n",
       "      <td>0.08758</td>\n",
       "      <td>0.0</td>\n",
       "      <td>True</td>\n",
       "      <td>0</td>\n",
       "      <td>0.0</td>\n",
       "    </tr>\n",
       "    <tr>\n",
       "      <th>3</th>\n",
       "      <td>11.42</td>\n",
       "      <td>20.38</td>\n",
       "      <td>77.58</td>\n",
       "      <td>386.1</td>\n",
       "      <td>0.14250</td>\n",
       "      <td>0.28390</td>\n",
       "      <td>0.2414</td>\n",
       "      <td>0.10520</td>\n",
       "      <td>0.2597</td>\n",
       "      <td>0.09744</td>\n",
       "      <td>...</td>\n",
       "      <td>0.2098</td>\n",
       "      <td>0.8663</td>\n",
       "      <td>0.6869</td>\n",
       "      <td>0.2575</td>\n",
       "      <td>0.6638</td>\n",
       "      <td>0.17300</td>\n",
       "      <td>0.0</td>\n",
       "      <td>False</td>\n",
       "      <td>0</td>\n",
       "      <td>NaN</td>\n",
       "    </tr>\n",
       "    <tr>\n",
       "      <th>4</th>\n",
       "      <td>20.29</td>\n",
       "      <td>14.34</td>\n",
       "      <td>135.10</td>\n",
       "      <td>1297.0</td>\n",
       "      <td>0.10030</td>\n",
       "      <td>0.13280</td>\n",
       "      <td>0.1980</td>\n",
       "      <td>0.10430</td>\n",
       "      <td>0.1809</td>\n",
       "      <td>0.05883</td>\n",
       "      <td>...</td>\n",
       "      <td>0.1374</td>\n",
       "      <td>0.2050</td>\n",
       "      <td>0.4000</td>\n",
       "      <td>0.1625</td>\n",
       "      <td>0.2364</td>\n",
       "      <td>0.07678</td>\n",
       "      <td>0.0</td>\n",
       "      <td>False</td>\n",
       "      <td>0</td>\n",
       "      <td>NaN</td>\n",
       "    </tr>\n",
       "  </tbody>\n",
       "</table>\n",
       "<p>5 rows × 34 columns</p>\n",
       "</div>"
      ]
     },
     "execution_count": 26,
     "metadata": {},
     "output_type": "execute_result"
    }
   ],
   "execution_count": 26
  },
  {
   "cell_type": "markdown",
   "id": "8fbb5de3",
   "metadata": {},
   "source": [
    "# Setup X, Y training and validation"
   ]
  },
  {
   "cell_type": "code",
   "id": "df9c91ae",
   "metadata": {
    "ExecuteTime": {
     "end_time": "2024-06-30T13:45:34.884708Z",
     "start_time": "2024-06-30T13:45:34.865691Z"
    }
   },
   "source": [
    "# make a copy of the original DF\n",
    "\n",
    "df_bak = df.copy()\n",
    "\n",
    "\n",
    "# Define your features and target\n",
    "X = df.drop(['target', 'subgroup', 'true_labels_all', 'true_labels_subgroup'], axis=1)\n",
    "y = df['target'].fillna(0)\n",
    "\n",
    "# Initialize the scaler\n",
    "scaler = StandardScaler()\n",
    "\n",
    "X_scaled = scaler.fit_transform(X)\n",
    "\n",
    "# Split the data and store the indices\n",
    "indices = np.arange(len(X))\n",
    "train_indices, test_indices, X_train, X_test, y_train, y_test = train_test_split(indices, X_scaled, y, test_size=0.33, random_state=42)"
   ],
   "outputs": [],
   "execution_count": 27
  },
  {
   "cell_type": "markdown",
   "id": "09220a28",
   "metadata": {},
   "source": [
    "# Train Model"
   ]
  },
  {
   "cell_type": "code",
   "id": "df2f4d57",
   "metadata": {
    "ExecuteTime": {
     "end_time": "2024-06-30T13:45:34.916736Z",
     "start_time": "2024-06-30T13:45:34.885709Z"
    }
   },
   "source": [
    "# Estimate propensity scores\n",
    "propensity_scores = sar.estimate_propensity_scores(X_train, y_train)\n",
    "\n",
    "# Compute class weights\n",
    "class_weights = sar.compute_class_weights(y_train, propensity_scores)\n",
    "\n",
    "# Train the PU model\n",
    "pu_model = sar.train_pu_model(X_train, y_train, class_weights)"
   ],
   "outputs": [],
   "execution_count": 28
  },
  {
   "cell_type": "markdown",
   "id": "e9481a74",
   "metadata": {},
   "source": [
    "# make proba preds"
   ]
  },
  {
   "cell_type": "code",
   "id": "2884e104",
   "metadata": {
    "ExecuteTime": {
     "end_time": "2024-06-30T13:45:34.932751Z",
     "start_time": "2024-06-30T13:45:34.917738Z"
    }
   },
   "source": [
    "y_probs=pu_model.predict_proba(X_test)[:,1:]"
   ],
   "outputs": [],
   "execution_count": 29
  },
  {
   "cell_type": "code",
   "id": "be753feed991bc5b",
   "metadata": {
    "ExecuteTime": {
     "end_time": "2024-06-30T13:45:34.948765Z",
     "start_time": "2024-06-30T13:45:34.933752Z"
    }
   },
   "source": [
    "from sklearn.metrics import confusion_matrix, classification_report\n",
    "df_test=df_bak.loc[test_indices]#['subgroup']\n",
    "df_sub_test=df_test[df_test['subgroup']]"
   ],
   "outputs": [],
   "execution_count": 30
  },
  {
   "cell_type": "code",
   "id": "f19740da",
   "metadata": {
    "ExecuteTime": {
     "end_time": "2024-06-30T13:45:34.980793Z",
     "start_time": "2024-06-30T13:45:34.949766Z"
    }
   },
   "source": [
    "df_test"
   ],
   "outputs": [
    {
     "data": {
      "text/plain": [
       "     mean radius  mean texture  mean perimeter  mean area  mean smoothness  \\\n",
       "204        12.47         18.60           81.09      481.9          0.09965   \n",
       "70         18.94         21.31          123.60     1130.0          0.09009   \n",
       "131        15.46         19.48          101.70      748.9          0.10920   \n",
       "431        12.40         17.68           81.47      467.8          0.10540   \n",
       "540        11.54         14.44           74.65      402.9          0.09984   \n",
       "..           ...           ...             ...        ...              ...   \n",
       "141        16.11         18.05          105.10      813.0          0.09721   \n",
       "498        18.49         17.52          121.30     1068.0          0.10120   \n",
       "7          13.71         20.83           90.20      577.9          0.11890   \n",
       "541        14.47         24.99           95.81      656.4          0.08837   \n",
       "19         13.54         14.36           87.46      566.3          0.09779   \n",
       "\n",
       "     mean compactness  mean concavity  mean concave points  mean symmetry  \\\n",
       "204           0.10580         0.08005              0.03821         0.1925   \n",
       "70            0.10290         0.10800              0.07951         0.1582   \n",
       "131           0.12230         0.14660              0.08087         0.1931   \n",
       "431           0.13160         0.07741              0.02799         0.1811   \n",
       "540           0.11200         0.06737              0.02594         0.1818   \n",
       "..                ...             ...                  ...            ...   \n",
       "141           0.11370         0.09447              0.05943         0.1861   \n",
       "498           0.13170         0.14910              0.09183         0.1832   \n",
       "7             0.16450         0.09366              0.05985         0.2196   \n",
       "541           0.12300         0.10090              0.03890         0.1872   \n",
       "19            0.08129         0.06664              0.04781         0.1885   \n",
       "\n",
       "     mean fractal dimension  ...  worst smoothness  worst compactness  \\\n",
       "204                 0.06373  ...            0.1426             0.2378   \n",
       "70                  0.05461  ...            0.1193             0.2336   \n",
       "131                 0.05796  ...            0.1546             0.2394   \n",
       "431                 0.07102  ...            0.1450             0.2629   \n",
       "540                 0.06782  ...            0.1345             0.2118   \n",
       "..                      ...  ...               ...                ...   \n",
       "141                 0.06248  ...            0.1314             0.2236   \n",
       "498                 0.06697  ...            0.1412             0.3089   \n",
       "7                   0.07451  ...            0.1654             0.3682   \n",
       "541                 0.06341  ...            0.1340             0.4202   \n",
       "19                  0.05766  ...            0.1440             0.1773   \n",
       "\n",
       "     worst concavity  worst concave points  worst symmetry  \\\n",
       "204           0.2671               0.10150          0.3014   \n",
       "70            0.2687               0.17890          0.2551   \n",
       "131           0.3791               0.15140          0.2837   \n",
       "431           0.2403               0.07370          0.2556   \n",
       "540           0.1797               0.06918          0.2329   \n",
       "..               ...                   ...             ...   \n",
       "141           0.2802               0.12160          0.2792   \n",
       "498           0.3533               0.16630          0.2510   \n",
       "7             0.2678               0.15560          0.3196   \n",
       "541           0.4040               0.12050          0.3187   \n",
       "19            0.2390               0.12880          0.2977   \n",
       "\n",
       "     worst fractal dimension  target  subgroup  true_labels_all  \\\n",
       "204                  0.08750     0.0     False                1   \n",
       "70                   0.06589     NaN      True                0   \n",
       "131                  0.08019     NaN      True                0   \n",
       "431                  0.09359     0.0     False                1   \n",
       "540                  0.08134     0.0     False                1   \n",
       "..                       ...     ...       ...              ...   \n",
       "141                  0.08158     0.0     False                0   \n",
       "498                  0.09445     0.0     False                0   \n",
       "7                    0.11510     NaN      True                0   \n",
       "541                  0.10230     NaN      True                1   \n",
       "19                   0.07259     0.0     False                1   \n",
       "\n",
       "     true_labels_subgroup  \n",
       "204                   NaN  \n",
       "70                    NaN  \n",
       "131                   NaN  \n",
       "431                   NaN  \n",
       "540                   NaN  \n",
       "..                    ...  \n",
       "141                   NaN  \n",
       "498                   NaN  \n",
       "7                     NaN  \n",
       "541                   NaN  \n",
       "19                    NaN  \n",
       "\n",
       "[188 rows x 34 columns]"
      ],
      "text/html": [
       "<div>\n",
       "<style scoped>\n",
       "    .dataframe tbody tr th:only-of-type {\n",
       "        vertical-align: middle;\n",
       "    }\n",
       "\n",
       "    .dataframe tbody tr th {\n",
       "        vertical-align: top;\n",
       "    }\n",
       "\n",
       "    .dataframe thead th {\n",
       "        text-align: right;\n",
       "    }\n",
       "</style>\n",
       "<table border=\"1\" class=\"dataframe\">\n",
       "  <thead>\n",
       "    <tr style=\"text-align: right;\">\n",
       "      <th></th>\n",
       "      <th>mean radius</th>\n",
       "      <th>mean texture</th>\n",
       "      <th>mean perimeter</th>\n",
       "      <th>mean area</th>\n",
       "      <th>mean smoothness</th>\n",
       "      <th>mean compactness</th>\n",
       "      <th>mean concavity</th>\n",
       "      <th>mean concave points</th>\n",
       "      <th>mean symmetry</th>\n",
       "      <th>mean fractal dimension</th>\n",
       "      <th>...</th>\n",
       "      <th>worst smoothness</th>\n",
       "      <th>worst compactness</th>\n",
       "      <th>worst concavity</th>\n",
       "      <th>worst concave points</th>\n",
       "      <th>worst symmetry</th>\n",
       "      <th>worst fractal dimension</th>\n",
       "      <th>target</th>\n",
       "      <th>subgroup</th>\n",
       "      <th>true_labels_all</th>\n",
       "      <th>true_labels_subgroup</th>\n",
       "    </tr>\n",
       "  </thead>\n",
       "  <tbody>\n",
       "    <tr>\n",
       "      <th>204</th>\n",
       "      <td>12.47</td>\n",
       "      <td>18.60</td>\n",
       "      <td>81.09</td>\n",
       "      <td>481.9</td>\n",
       "      <td>0.09965</td>\n",
       "      <td>0.10580</td>\n",
       "      <td>0.08005</td>\n",
       "      <td>0.03821</td>\n",
       "      <td>0.1925</td>\n",
       "      <td>0.06373</td>\n",
       "      <td>...</td>\n",
       "      <td>0.1426</td>\n",
       "      <td>0.2378</td>\n",
       "      <td>0.2671</td>\n",
       "      <td>0.10150</td>\n",
       "      <td>0.3014</td>\n",
       "      <td>0.08750</td>\n",
       "      <td>0.0</td>\n",
       "      <td>False</td>\n",
       "      <td>1</td>\n",
       "      <td>NaN</td>\n",
       "    </tr>\n",
       "    <tr>\n",
       "      <th>70</th>\n",
       "      <td>18.94</td>\n",
       "      <td>21.31</td>\n",
       "      <td>123.60</td>\n",
       "      <td>1130.0</td>\n",
       "      <td>0.09009</td>\n",
       "      <td>0.10290</td>\n",
       "      <td>0.10800</td>\n",
       "      <td>0.07951</td>\n",
       "      <td>0.1582</td>\n",
       "      <td>0.05461</td>\n",
       "      <td>...</td>\n",
       "      <td>0.1193</td>\n",
       "      <td>0.2336</td>\n",
       "      <td>0.2687</td>\n",
       "      <td>0.17890</td>\n",
       "      <td>0.2551</td>\n",
       "      <td>0.06589</td>\n",
       "      <td>NaN</td>\n",
       "      <td>True</td>\n",
       "      <td>0</td>\n",
       "      <td>NaN</td>\n",
       "    </tr>\n",
       "    <tr>\n",
       "      <th>131</th>\n",
       "      <td>15.46</td>\n",
       "      <td>19.48</td>\n",
       "      <td>101.70</td>\n",
       "      <td>748.9</td>\n",
       "      <td>0.10920</td>\n",
       "      <td>0.12230</td>\n",
       "      <td>0.14660</td>\n",
       "      <td>0.08087</td>\n",
       "      <td>0.1931</td>\n",
       "      <td>0.05796</td>\n",
       "      <td>...</td>\n",
       "      <td>0.1546</td>\n",
       "      <td>0.2394</td>\n",
       "      <td>0.3791</td>\n",
       "      <td>0.15140</td>\n",
       "      <td>0.2837</td>\n",
       "      <td>0.08019</td>\n",
       "      <td>NaN</td>\n",
       "      <td>True</td>\n",
       "      <td>0</td>\n",
       "      <td>NaN</td>\n",
       "    </tr>\n",
       "    <tr>\n",
       "      <th>431</th>\n",
       "      <td>12.40</td>\n",
       "      <td>17.68</td>\n",
       "      <td>81.47</td>\n",
       "      <td>467.8</td>\n",
       "      <td>0.10540</td>\n",
       "      <td>0.13160</td>\n",
       "      <td>0.07741</td>\n",
       "      <td>0.02799</td>\n",
       "      <td>0.1811</td>\n",
       "      <td>0.07102</td>\n",
       "      <td>...</td>\n",
       "      <td>0.1450</td>\n",
       "      <td>0.2629</td>\n",
       "      <td>0.2403</td>\n",
       "      <td>0.07370</td>\n",
       "      <td>0.2556</td>\n",
       "      <td>0.09359</td>\n",
       "      <td>0.0</td>\n",
       "      <td>False</td>\n",
       "      <td>1</td>\n",
       "      <td>NaN</td>\n",
       "    </tr>\n",
       "    <tr>\n",
       "      <th>540</th>\n",
       "      <td>11.54</td>\n",
       "      <td>14.44</td>\n",
       "      <td>74.65</td>\n",
       "      <td>402.9</td>\n",
       "      <td>0.09984</td>\n",
       "      <td>0.11200</td>\n",
       "      <td>0.06737</td>\n",
       "      <td>0.02594</td>\n",
       "      <td>0.1818</td>\n",
       "      <td>0.06782</td>\n",
       "      <td>...</td>\n",
       "      <td>0.1345</td>\n",
       "      <td>0.2118</td>\n",
       "      <td>0.1797</td>\n",
       "      <td>0.06918</td>\n",
       "      <td>0.2329</td>\n",
       "      <td>0.08134</td>\n",
       "      <td>0.0</td>\n",
       "      <td>False</td>\n",
       "      <td>1</td>\n",
       "      <td>NaN</td>\n",
       "    </tr>\n",
       "    <tr>\n",
       "      <th>...</th>\n",
       "      <td>...</td>\n",
       "      <td>...</td>\n",
       "      <td>...</td>\n",
       "      <td>...</td>\n",
       "      <td>...</td>\n",
       "      <td>...</td>\n",
       "      <td>...</td>\n",
       "      <td>...</td>\n",
       "      <td>...</td>\n",
       "      <td>...</td>\n",
       "      <td>...</td>\n",
       "      <td>...</td>\n",
       "      <td>...</td>\n",
       "      <td>...</td>\n",
       "      <td>...</td>\n",
       "      <td>...</td>\n",
       "      <td>...</td>\n",
       "      <td>...</td>\n",
       "      <td>...</td>\n",
       "      <td>...</td>\n",
       "      <td>...</td>\n",
       "    </tr>\n",
       "    <tr>\n",
       "      <th>141</th>\n",
       "      <td>16.11</td>\n",
       "      <td>18.05</td>\n",
       "      <td>105.10</td>\n",
       "      <td>813.0</td>\n",
       "      <td>0.09721</td>\n",
       "      <td>0.11370</td>\n",
       "      <td>0.09447</td>\n",
       "      <td>0.05943</td>\n",
       "      <td>0.1861</td>\n",
       "      <td>0.06248</td>\n",
       "      <td>...</td>\n",
       "      <td>0.1314</td>\n",
       "      <td>0.2236</td>\n",
       "      <td>0.2802</td>\n",
       "      <td>0.12160</td>\n",
       "      <td>0.2792</td>\n",
       "      <td>0.08158</td>\n",
       "      <td>0.0</td>\n",
       "      <td>False</td>\n",
       "      <td>0</td>\n",
       "      <td>NaN</td>\n",
       "    </tr>\n",
       "    <tr>\n",
       "      <th>498</th>\n",
       "      <td>18.49</td>\n",
       "      <td>17.52</td>\n",
       "      <td>121.30</td>\n",
       "      <td>1068.0</td>\n",
       "      <td>0.10120</td>\n",
       "      <td>0.13170</td>\n",
       "      <td>0.14910</td>\n",
       "      <td>0.09183</td>\n",
       "      <td>0.1832</td>\n",
       "      <td>0.06697</td>\n",
       "      <td>...</td>\n",
       "      <td>0.1412</td>\n",
       "      <td>0.3089</td>\n",
       "      <td>0.3533</td>\n",
       "      <td>0.16630</td>\n",
       "      <td>0.2510</td>\n",
       "      <td>0.09445</td>\n",
       "      <td>0.0</td>\n",
       "      <td>False</td>\n",
       "      <td>0</td>\n",
       "      <td>NaN</td>\n",
       "    </tr>\n",
       "    <tr>\n",
       "      <th>7</th>\n",
       "      <td>13.71</td>\n",
       "      <td>20.83</td>\n",
       "      <td>90.20</td>\n",
       "      <td>577.9</td>\n",
       "      <td>0.11890</td>\n",
       "      <td>0.16450</td>\n",
       "      <td>0.09366</td>\n",
       "      <td>0.05985</td>\n",
       "      <td>0.2196</td>\n",
       "      <td>0.07451</td>\n",
       "      <td>...</td>\n",
       "      <td>0.1654</td>\n",
       "      <td>0.3682</td>\n",
       "      <td>0.2678</td>\n",
       "      <td>0.15560</td>\n",
       "      <td>0.3196</td>\n",
       "      <td>0.11510</td>\n",
       "      <td>NaN</td>\n",
       "      <td>True</td>\n",
       "      <td>0</td>\n",
       "      <td>NaN</td>\n",
       "    </tr>\n",
       "    <tr>\n",
       "      <th>541</th>\n",
       "      <td>14.47</td>\n",
       "      <td>24.99</td>\n",
       "      <td>95.81</td>\n",
       "      <td>656.4</td>\n",
       "      <td>0.08837</td>\n",
       "      <td>0.12300</td>\n",
       "      <td>0.10090</td>\n",
       "      <td>0.03890</td>\n",
       "      <td>0.1872</td>\n",
       "      <td>0.06341</td>\n",
       "      <td>...</td>\n",
       "      <td>0.1340</td>\n",
       "      <td>0.4202</td>\n",
       "      <td>0.4040</td>\n",
       "      <td>0.12050</td>\n",
       "      <td>0.3187</td>\n",
       "      <td>0.10230</td>\n",
       "      <td>NaN</td>\n",
       "      <td>True</td>\n",
       "      <td>1</td>\n",
       "      <td>NaN</td>\n",
       "    </tr>\n",
       "    <tr>\n",
       "      <th>19</th>\n",
       "      <td>13.54</td>\n",
       "      <td>14.36</td>\n",
       "      <td>87.46</td>\n",
       "      <td>566.3</td>\n",
       "      <td>0.09779</td>\n",
       "      <td>0.08129</td>\n",
       "      <td>0.06664</td>\n",
       "      <td>0.04781</td>\n",
       "      <td>0.1885</td>\n",
       "      <td>0.05766</td>\n",
       "      <td>...</td>\n",
       "      <td>0.1440</td>\n",
       "      <td>0.1773</td>\n",
       "      <td>0.2390</td>\n",
       "      <td>0.12880</td>\n",
       "      <td>0.2977</td>\n",
       "      <td>0.07259</td>\n",
       "      <td>0.0</td>\n",
       "      <td>False</td>\n",
       "      <td>1</td>\n",
       "      <td>NaN</td>\n",
       "    </tr>\n",
       "  </tbody>\n",
       "</table>\n",
       "<p>188 rows × 34 columns</p>\n",
       "</div>"
      ]
     },
     "execution_count": 31,
     "metadata": {},
     "output_type": "execute_result"
    }
   ],
   "execution_count": 31
  },
  {
   "cell_type": "markdown",
   "id": "d4e4f12a",
   "metadata": {},
   "source": [
    "## Find Optimal Threshold"
   ]
  },
  {
   "cell_type": "code",
   "id": "88fd1da475294161",
   "metadata": {
    "ExecuteTime": {
     "end_time": "2024-06-30T13:45:34.996807Z",
     "start_time": "2024-06-30T13:45:34.981794Z"
    }
   },
   "source": [
    "optimal_threshold = sar.calculate_optimal_threshold(y_test, y_probs)\n",
    "print(\"Optimal threshold:\", optimal_threshold)\n",
    "y_preds=(y_probs>=optimal_threshold).astype(int)"
   ],
   "outputs": [
    {
     "name": "stdout",
     "output_type": "stream",
     "text": [
      "Optimal threshold: 0.13774907086525925\n"
     ]
    }
   ],
   "execution_count": 32
  },
  {
   "cell_type": "code",
   "id": "785ca65720323714",
   "metadata": {
    "ExecuteTime": {
     "end_time": "2024-06-30T13:45:35.012821Z",
     "start_time": "2024-06-30T13:45:34.997809Z"
    }
   },
   "source": [
    "y_true_sub=df_sub_test['true_labels_all']"
   ],
   "outputs": [],
   "execution_count": 33
  },
  {
   "cell_type": "code",
   "id": "599757a55b4336dc",
   "metadata": {
    "ExecuteTime": {
     "end_time": "2024-06-30T13:45:35.603057Z",
     "start_time": "2024-06-30T13:45:35.599019Z"
    }
   },
   "source": [
    "y_preds_sub0=y_preds[df_test['subgroup']].astype(int)"
   ],
   "outputs": [],
   "execution_count": 34
  },
  {
   "cell_type": "markdown",
   "id": "0165378a",
   "metadata": {},
   "source": [
    "# Confusion Matrix using Optimal Threshold"
   ]
  },
  {
   "cell_type": "code",
   "id": "5ffe63f4a161ce5f",
   "metadata": {
    "ExecuteTime": {
     "end_time": "2024-06-30T13:45:35.651101Z",
     "start_time": "2024-06-30T13:45:35.644095Z"
    }
   },
   "source": [
    "confusion_matrix(y_true_sub, y_preds_sub0)"
   ],
   "outputs": [
    {
     "data": {
      "text/plain": [
       "array([[52,  2],\n",
       "       [ 4,  6]], dtype=int64)"
      ]
     },
     "execution_count": 35,
     "metadata": {},
     "output_type": "execute_result"
    }
   ],
   "execution_count": 35
  },
  {
   "cell_type": "code",
   "id": "c000d42a7cecff67",
   "metadata": {
    "ExecuteTime": {
     "end_time": "2024-06-30T13:45:35.667115Z",
     "start_time": "2024-06-30T13:45:35.661110Z"
    }
   },
   "source": [
    "print(classification_report(y_true_sub, y_preds_sub0))"
   ],
   "outputs": [
    {
     "name": "stdout",
     "output_type": "stream",
     "text": [
      "              precision    recall  f1-score   support\n",
      "\n",
      "           0       0.93      0.96      0.95        54\n",
      "           1       0.75      0.60      0.67        10\n",
      "\n",
      "    accuracy                           0.91        64\n",
      "   macro avg       0.84      0.78      0.81        64\n",
      "weighted avg       0.90      0.91      0.90        64\n",
      "\n"
     ]
    }
   ],
   "execution_count": 36
  },
  {
   "cell_type": "markdown",
   "id": "45f86fdc",
   "metadata": {},
   "source": [
    "# train out of box LR model"
   ]
  },
  {
   "cell_type": "code",
   "id": "b48daf42",
   "metadata": {
    "ExecuteTime": {
     "end_time": "2024-06-30T13:45:35.730171Z",
     "start_time": "2024-06-30T13:45:35.707151Z"
    }
   },
   "source": [
    "\n",
    "from sklearn.linear_model import LogisticRegression\n",
    "\n",
    "clf = LogisticRegression(random_state=0).fit(X_train, y_train.values.ravel())\n",
    "\n",
    "y_lr_proba=clf.predict_proba(X_test)[:,1:][df_test['subgroup']]\n",
    "#clf.score(X_test, y_test.values.reshape(-1, 1))\n"
   ],
   "outputs": [],
   "execution_count": 37
  },
  {
   "cell_type": "markdown",
   "id": "58cf1541",
   "metadata": {},
   "source": [
    "# AUC for PU learning model"
   ]
  },
  {
   "cell_type": "code",
   "id": "359d01a9",
   "metadata": {
    "ExecuteTime": {
     "end_time": "2024-06-30T13:45:35.746185Z",
     "start_time": "2024-06-30T13:45:35.736176Z"
    }
   },
   "source": [
    "from sklearn.metrics import roc_auc_score\n",
    "roc_auc_score(y_true_sub,y_probs[df_test['subgroup']])"
   ],
   "outputs": [
    {
     "data": {
      "text/plain": [
       "0.9166666666666667"
      ]
     },
     "execution_count": 38,
     "metadata": {},
     "output_type": "execute_result"
    }
   ],
   "execution_count": 38
  },
  {
   "cell_type": "markdown",
   "id": "28e14182",
   "metadata": {},
   "source": [
    "# AUC for Standard LR model"
   ]
  },
  {
   "cell_type": "code",
   "id": "ed6b9824",
   "metadata": {
    "ExecuteTime": {
     "end_time": "2024-06-30T13:45:36.208066Z",
     "start_time": "2024-06-30T13:45:36.192052Z"
    }
   },
   "source": [
    "from sklearn.metrics import roc_auc_score\n",
    "roc_auc_score(y_true_sub,y_lr_proba)"
   ],
   "outputs": [
    {
     "data": {
      "text/plain": [
       "0.9074074074074074"
      ]
     },
     "execution_count": 39,
     "metadata": {},
     "output_type": "execute_result"
    }
   ],
   "execution_count": 39
  },
  {
   "cell_type": "markdown",
   "id": "3962c26c",
   "metadata": {},
   "source": [
    "# get Optimal Threshold for LR Model"
   ]
  },
  {
   "cell_type": "code",
   "id": "3a92b6fe",
   "metadata": {
    "ExecuteTime": {
     "end_time": "2024-06-30T13:45:36.240094Z",
     "start_time": "2024-06-30T13:45:36.225080Z"
    }
   },
   "source": [
    "# Get the test instances that belong to the subgroup\n",
    "X_test_subgroup = X_test[df_test['subgroup']]\n",
    "y_test_subgroup = y_test[df_test['subgroup']]\n",
    "\n",
    "# Get the predicted probabilities for the subgroup\n",
    "y_probs_subgroup = clf.predict_proba(X_test_subgroup)[:, 1:]\n",
    "\n",
    "# Calculate the optimal threshold for the subgroup\n",
    "optimal_threshold_subgroup = sar.calculate_optimal_threshold(y_test_subgroup, y_probs_subgroup)\n",
    "print(\"Optimal threshold for subgroup:\", optimal_threshold_subgroup)\n",
    "\n",
    "# Get the predictions for the subgroup using the new threshold\n",
    "y_preds_subgroup = (y_probs_subgroup >= optimal_threshold_subgroup).astype(int)"
   ],
   "outputs": [
    {
     "name": "stdout",
     "output_type": "stream",
     "text": [
      "Optimal threshold for subgroup: 0.08134708785183872\n"
     ]
    }
   ],
   "execution_count": 40
  },
  {
   "cell_type": "markdown",
   "id": "aa474415",
   "metadata": {},
   "source": [
    "# confusion Matrix for LR model"
   ]
  },
  {
   "cell_type": "code",
   "id": "67df56b5b6aceb7a",
   "metadata": {
    "ExecuteTime": {
     "end_time": "2024-06-30T13:45:36.288136Z",
     "start_time": "2024-06-30T13:45:36.271122Z"
    }
   },
   "source": [
    "confusion_matrix(y_test_subgroup, y_preds_subgroup)"
   ],
   "outputs": [
    {
     "data": {
      "text/plain": [
       "array([[56,  5],\n",
       "       [ 0,  3]], dtype=int64)"
      ]
     },
     "execution_count": 41,
     "metadata": {},
     "output_type": "execute_result"
    }
   ],
   "execution_count": 41
  },
  {
   "cell_type": "markdown",
   "id": "ae8273af",
   "metadata": {},
   "source": [
    "# confusion Matrix for PU Learning model"
   ]
  },
  {
   "cell_type": "code",
   "id": "0c072342",
   "metadata": {
    "ExecuteTime": {
     "end_time": "2024-06-30T13:45:36.304151Z",
     "start_time": "2024-06-30T13:45:36.289139Z"
    }
   },
   "source": [
    "confusion_matrix(y_true_sub, y_preds_sub0)"
   ],
   "outputs": [
    {
     "data": {
      "text/plain": [
       "array([[52,  2],\n",
       "       [ 4,  6]], dtype=int64)"
      ]
     },
     "execution_count": 42,
     "metadata": {},
     "output_type": "execute_result"
    }
   ],
   "execution_count": 42
  },
  {
   "cell_type": "markdown",
   "id": "eba4337f",
   "metadata": {},
   "source": [
    "#  Brief Discussion\n",
    "\n",
    "The SAR propensity model modestly outperforms standard logistic regression, based on AUC, which translates naturally to Confusion Matrix when using optimal thresholds. However, it outperforms in an interesting and important way. The detection of positives is superior by a significant margin (~30%). "
   ]
  },
  {
   "cell_type": "code",
   "id": "cc3fcbf4",
   "metadata": {
    "ExecuteTime": {
     "end_time": "2024-06-30T13:45:36.320165Z",
     "start_time": "2024-06-30T13:45:36.305152Z"
    }
   },
   "source": [],
   "outputs": [],
   "execution_count": 42
  }
 ],
 "metadata": {
  "kernelspec": {
   "display_name": "Python 3",
   "language": "python",
   "name": "python3"
  },
  "language_info": {
   "codemirror_mode": {
    "name": "ipython",
    "version": 3
   },
   "file_extension": ".py",
   "mimetype": "text/x-python",
   "name": "python",
   "nbconvert_exporter": "python",
   "pygments_lexer": "ipython3",
   "version": "3.8.10"
  }
 },
 "nbformat": 4,
 "nbformat_minor": 5
}
