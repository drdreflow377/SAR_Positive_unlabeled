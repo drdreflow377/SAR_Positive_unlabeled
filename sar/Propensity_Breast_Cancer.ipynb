{
 "cells": [
  {
   "cell_type": "markdown",
   "id": "9cdef481",
   "metadata": {},
   "source": [
    "# Positive and Unlabeled Learning\n",
    "### simulating unlabeled data in the breast cancer data set, then building a classifer using propensity\n",
    "\n",
    "Uses Selected at Random Assumption and propensity. Adapted from \"Machine Learning from Weak Supervision\"\n",
    "https://mitpress.mit.edu/9780262047074/machine-learning-from-weak-supervision/"
   ]
  },
  {
   "cell_type": "markdown",
   "id": "25d74a16",
   "metadata": {},
   "source": [
    "# Load Libraries"
   ]
  },
  {
   "cell_type": "code",
   "execution_count": 1,
   "id": "04ecfa8c",
   "metadata": {},
   "outputs": [],
   "source": [
    "\n",
    "from sklearn.model_selection import train_test_split\n",
    "from sklearn.preprocessing import StandardScaler\n",
    "from sklearn.datasets import load_breast_cancer\n",
    "import pandas as pd\n",
    "import numpy as np\n",
    "\n",
    "# Propensity Ops functions\n",
    "from propensity_ops import estimate_propensity_scores, compute_class_weights, train_pu_model, calculate_optimal_threshold"
   ]
  },
  {
   "cell_type": "markdown",
   "id": "c5b5838e",
   "metadata": {},
   "source": [
    "# Load Data"
   ]
  },
  {
   "cell_type": "code",
   "execution_count": 3,
   "id": "c745681d",
   "metadata": {
    "jupyter": {
     "is_executing": true
    }
   },
   "outputs": [],
   "source": [
    "### subgroup will be defined as (df['mean radius'] > df['mean radius'].median()) & (df['mean texture'] > df['mean texture'].median())\n",
    "### we will be using mean radius and mean texture as the features to define the subgroup specifically where the mean exceeds the median\n",
    "\n",
    "\n",
    "\n",
    "# Load the breast cancer dataset\n",
    "data = load_breast_cancer()\n",
    "df = pd.DataFrame(data.data, columns=data.feature_names)\n",
    "df['target'] = data.target\n",
    "\n",
    "# Create a boolean mask for the subgroup\n",
    "# Adjust the conditions as needed to define your subgroup\n",
    "subgroup_mask = (df['mean radius'] > df['mean radius'].median()) & (df['mean texture'] > df['mean texture'].median())\n",
    "\n",
    "# Create a new column 'subgroup' to track the subgroup\n",
    "df['subgroup'] = subgroup_mask"
   ]
  },
  {
   "cell_type": "markdown",
   "id": "cc2b8a57",
   "metadata": {},
   "source": [
    "# Mask some of the labels from the subgroup\n",
    "# Here we randomly mask 50% of the subgroup labels"
   ]
  },
  {
   "cell_type": "code",
   "execution_count": 4,
   "id": "e0acb8c1435f1320",
   "metadata": {
    "jupyter": {
     "is_executing": true
    }
   },
   "outputs": [],
   "source": [
    "\n",
    "mask = np.random.rand(len(df)) < 0.5\n",
    "df.loc[subgroup_mask, 'target'] = df.loc[subgroup_mask, 'target'].mask(mask[subgroup_mask])\n",
    "\n",
    "# Set all other labels outside the subgroup to 0\n",
    "df.loc[~subgroup_mask, 'target'] = 0\n",
    "\n",
    "# Hold back the true labels for all instances\n",
    "df['true_labels_all'] = data.target\n",
    "\n",
    "# Hold back the true labels for just the subgroup\n",
    "df['true_labels_subgroup'] = df['target'].where(subgroup_mask, np.nan)"
   ]
  },
  {
   "cell_type": "code",
   "execution_count": 5,
   "id": "1140c231165fcab5",
   "metadata": {
    "ExecuteTime": {
     "end_time": "2024-03-19T19:47:02.701115Z",
     "start_time": "2024-03-19T19:47:02.471323Z"
    }
   },
   "outputs": [
    {
     "data": {
      "text/html": [
       "<div>\n",
       "<style scoped>\n",
       "    .dataframe tbody tr th:only-of-type {\n",
       "        vertical-align: middle;\n",
       "    }\n",
       "\n",
       "    .dataframe tbody tr th {\n",
       "        vertical-align: top;\n",
       "    }\n",
       "\n",
       "    .dataframe thead th {\n",
       "        text-align: right;\n",
       "    }\n",
       "</style>\n",
       "<table border=\"1\" class=\"dataframe\">\n",
       "  <thead>\n",
       "    <tr style=\"text-align: right;\">\n",
       "      <th></th>\n",
       "      <th>mean radius</th>\n",
       "      <th>mean texture</th>\n",
       "      <th>mean perimeter</th>\n",
       "      <th>mean area</th>\n",
       "      <th>mean smoothness</th>\n",
       "      <th>mean compactness</th>\n",
       "      <th>mean concavity</th>\n",
       "      <th>mean concave points</th>\n",
       "      <th>mean symmetry</th>\n",
       "      <th>mean fractal dimension</th>\n",
       "      <th>...</th>\n",
       "      <th>worst smoothness</th>\n",
       "      <th>worst compactness</th>\n",
       "      <th>worst concavity</th>\n",
       "      <th>worst concave points</th>\n",
       "      <th>worst symmetry</th>\n",
       "      <th>worst fractal dimension</th>\n",
       "      <th>target</th>\n",
       "      <th>subgroup</th>\n",
       "      <th>true_labels_all</th>\n",
       "      <th>true_labels_subgroup</th>\n",
       "    </tr>\n",
       "  </thead>\n",
       "  <tbody>\n",
       "    <tr>\n",
       "      <th>0</th>\n",
       "      <td>17.99</td>\n",
       "      <td>10.38</td>\n",
       "      <td>122.80</td>\n",
       "      <td>1001.0</td>\n",
       "      <td>0.11840</td>\n",
       "      <td>0.27760</td>\n",
       "      <td>0.3001</td>\n",
       "      <td>0.14710</td>\n",
       "      <td>0.2419</td>\n",
       "      <td>0.07871</td>\n",
       "      <td>...</td>\n",
       "      <td>0.1622</td>\n",
       "      <td>0.6656</td>\n",
       "      <td>0.7119</td>\n",
       "      <td>0.2654</td>\n",
       "      <td>0.4601</td>\n",
       "      <td>0.11890</td>\n",
       "      <td>0.0</td>\n",
       "      <td>False</td>\n",
       "      <td>0</td>\n",
       "      <td>NaN</td>\n",
       "    </tr>\n",
       "    <tr>\n",
       "      <th>1</th>\n",
       "      <td>20.57</td>\n",
       "      <td>17.77</td>\n",
       "      <td>132.90</td>\n",
       "      <td>1326.0</td>\n",
       "      <td>0.08474</td>\n",
       "      <td>0.07864</td>\n",
       "      <td>0.0869</td>\n",
       "      <td>0.07017</td>\n",
       "      <td>0.1812</td>\n",
       "      <td>0.05667</td>\n",
       "      <td>...</td>\n",
       "      <td>0.1238</td>\n",
       "      <td>0.1866</td>\n",
       "      <td>0.2416</td>\n",
       "      <td>0.1860</td>\n",
       "      <td>0.2750</td>\n",
       "      <td>0.08902</td>\n",
       "      <td>0.0</td>\n",
       "      <td>False</td>\n",
       "      <td>0</td>\n",
       "      <td>NaN</td>\n",
       "    </tr>\n",
       "    <tr>\n",
       "      <th>2</th>\n",
       "      <td>19.69</td>\n",
       "      <td>21.25</td>\n",
       "      <td>130.00</td>\n",
       "      <td>1203.0</td>\n",
       "      <td>0.10960</td>\n",
       "      <td>0.15990</td>\n",
       "      <td>0.1974</td>\n",
       "      <td>0.12790</td>\n",
       "      <td>0.2069</td>\n",
       "      <td>0.05999</td>\n",
       "      <td>...</td>\n",
       "      <td>0.1444</td>\n",
       "      <td>0.4245</td>\n",
       "      <td>0.4504</td>\n",
       "      <td>0.2430</td>\n",
       "      <td>0.3613</td>\n",
       "      <td>0.08758</td>\n",
       "      <td>NaN</td>\n",
       "      <td>True</td>\n",
       "      <td>0</td>\n",
       "      <td>NaN</td>\n",
       "    </tr>\n",
       "    <tr>\n",
       "      <th>3</th>\n",
       "      <td>11.42</td>\n",
       "      <td>20.38</td>\n",
       "      <td>77.58</td>\n",
       "      <td>386.1</td>\n",
       "      <td>0.14250</td>\n",
       "      <td>0.28390</td>\n",
       "      <td>0.2414</td>\n",
       "      <td>0.10520</td>\n",
       "      <td>0.2597</td>\n",
       "      <td>0.09744</td>\n",
       "      <td>...</td>\n",
       "      <td>0.2098</td>\n",
       "      <td>0.8663</td>\n",
       "      <td>0.6869</td>\n",
       "      <td>0.2575</td>\n",
       "      <td>0.6638</td>\n",
       "      <td>0.17300</td>\n",
       "      <td>0.0</td>\n",
       "      <td>False</td>\n",
       "      <td>0</td>\n",
       "      <td>NaN</td>\n",
       "    </tr>\n",
       "    <tr>\n",
       "      <th>4</th>\n",
       "      <td>20.29</td>\n",
       "      <td>14.34</td>\n",
       "      <td>135.10</td>\n",
       "      <td>1297.0</td>\n",
       "      <td>0.10030</td>\n",
       "      <td>0.13280</td>\n",
       "      <td>0.1980</td>\n",
       "      <td>0.10430</td>\n",
       "      <td>0.1809</td>\n",
       "      <td>0.05883</td>\n",
       "      <td>...</td>\n",
       "      <td>0.1374</td>\n",
       "      <td>0.2050</td>\n",
       "      <td>0.4000</td>\n",
       "      <td>0.1625</td>\n",
       "      <td>0.2364</td>\n",
       "      <td>0.07678</td>\n",
       "      <td>0.0</td>\n",
       "      <td>False</td>\n",
       "      <td>0</td>\n",
       "      <td>NaN</td>\n",
       "    </tr>\n",
       "  </tbody>\n",
       "</table>\n",
       "<p>5 rows × 34 columns</p>\n",
       "</div>"
      ],
      "text/plain": [
       "   mean radius  mean texture  mean perimeter  mean area  mean smoothness  \\\n",
       "0        17.99         10.38          122.80     1001.0          0.11840   \n",
       "1        20.57         17.77          132.90     1326.0          0.08474   \n",
       "2        19.69         21.25          130.00     1203.0          0.10960   \n",
       "3        11.42         20.38           77.58      386.1          0.14250   \n",
       "4        20.29         14.34          135.10     1297.0          0.10030   \n",
       "\n",
       "   mean compactness  mean concavity  mean concave points  mean symmetry  \\\n",
       "0           0.27760          0.3001              0.14710         0.2419   \n",
       "1           0.07864          0.0869              0.07017         0.1812   \n",
       "2           0.15990          0.1974              0.12790         0.2069   \n",
       "3           0.28390          0.2414              0.10520         0.2597   \n",
       "4           0.13280          0.1980              0.10430         0.1809   \n",
       "\n",
       "   mean fractal dimension  ...  worst smoothness  worst compactness  \\\n",
       "0                 0.07871  ...            0.1622             0.6656   \n",
       "1                 0.05667  ...            0.1238             0.1866   \n",
       "2                 0.05999  ...            0.1444             0.4245   \n",
       "3                 0.09744  ...            0.2098             0.8663   \n",
       "4                 0.05883  ...            0.1374             0.2050   \n",
       "\n",
       "   worst concavity  worst concave points  worst symmetry  \\\n",
       "0           0.7119                0.2654          0.4601   \n",
       "1           0.2416                0.1860          0.2750   \n",
       "2           0.4504                0.2430          0.3613   \n",
       "3           0.6869                0.2575          0.6638   \n",
       "4           0.4000                0.1625          0.2364   \n",
       "\n",
       "   worst fractal dimension  target  subgroup  true_labels_all  \\\n",
       "0                  0.11890     0.0     False                0   \n",
       "1                  0.08902     0.0     False                0   \n",
       "2                  0.08758     NaN      True                0   \n",
       "3                  0.17300     0.0     False                0   \n",
       "4                  0.07678     0.0     False                0   \n",
       "\n",
       "   true_labels_subgroup  \n",
       "0                   NaN  \n",
       "1                   NaN  \n",
       "2                   NaN  \n",
       "3                   NaN  \n",
       "4                   NaN  \n",
       "\n",
       "[5 rows x 34 columns]"
      ]
     },
     "execution_count": 5,
     "metadata": {},
     "output_type": "execute_result"
    }
   ],
   "source": [
    "df.head()"
   ]
  },
  {
   "cell_type": "markdown",
   "id": "8fbb5de3",
   "metadata": {},
   "source": [
    "# Setup X, Y training and validation"
   ]
  },
  {
   "cell_type": "code",
   "execution_count": null,
   "id": "df9c91ae",
   "metadata": {
    "ExecuteTime": {
     "end_time": "2024-03-19T14:39:25.719611Z",
     "start_time": "2024-03-19T14:39:25.676261Z"
    }
   },
   "outputs": [],
   "source": [
    "# make a copy of the original DF\n",
    "\n",
    "df_bak = df.copy()\n",
    "\n",
    "\n",
    "# Define your features and target\n",
    "X = df.drop(['target', 'subgroup', 'true_labels_all', 'true_labels_subgroup'], axis=1)\n",
    "y = df['target'].fillna(0)\n",
    "\n",
    "# Initialize the scaler\n",
    "scaler = StandardScaler()\n",
    "\n",
    "X_scaled = scaler.fit_transform(X)\n",
    "\n",
    "# Split the data and store the indices\n",
    "indices = np.arange(len(X))\n",
    "train_indices, test_indices, X_train, X_test, y_train, y_test = train_test_split(indices, X_scaled, y, test_size=0.33, random_state=42)"
   ]
  },
  {
   "cell_type": "markdown",
   "id": "09220a28",
   "metadata": {},
   "source": [
    "# Train Model"
   ]
  },
  {
   "cell_type": "code",
   "execution_count": null,
   "id": "df2f4d57",
   "metadata": {
    "ExecuteTime": {
     "end_time": "2024-03-19T14:39:25.719611Z",
     "start_time": "2024-03-19T14:39:25.676261Z"
    }
   },
   "outputs": [],
   "source": [
    "# Estimate propensity scores\n",
    "propensity_scores = estimate_propensity_scores(X_train, y_train)\n",
    "\n",
    "# Compute class weights\n",
    "class_weights = compute_class_weights(y_train, propensity_scores)\n",
    "\n",
    "# Train the PU model\n",
    "pu_model = train_pu_model(X_train, y_train, class_weights)"
   ]
  },
  {
   "cell_type": "markdown",
   "id": "e9481a74",
   "metadata": {},
   "source": [
    "# make proba preds"
   ]
  },
  {
   "cell_type": "code",
   "execution_count": 13,
   "id": "2884e104",
   "metadata": {
    "ExecuteTime": {
     "end_time": "2024-03-19T14:39:25.719611Z",
     "start_time": "2024-03-19T14:39:25.676261Z"
    }
   },
   "outputs": [],
   "source": [
    "y_probs=pu_model.predict_proba(X_test)[:,1:]"
   ]
  },
  {
   "cell_type": "code",
   "execution_count": 14,
   "id": "be753feed991bc5b",
   "metadata": {
    "ExecuteTime": {
     "end_time": "2024-03-19T14:39:46.138443Z",
     "start_time": "2024-03-19T14:39:46.129464Z"
    }
   },
   "outputs": [],
   "source": [
    "from sklearn.metrics import confusion_matrix, classification_report\n",
    "df_test=df_bak.loc[test_indices]#['subgroup']\n",
    "df_sub_test=df_test[df_test['subgroup']]"
   ]
  },
  {
   "cell_type": "code",
   "execution_count": 35,
   "id": "f19740da",
   "metadata": {},
   "outputs": [
    {
     "data": {
      "text/html": [
       "<div>\n",
       "<style scoped>\n",
       "    .dataframe tbody tr th:only-of-type {\n",
       "        vertical-align: middle;\n",
       "    }\n",
       "\n",
       "    .dataframe tbody tr th {\n",
       "        vertical-align: top;\n",
       "    }\n",
       "\n",
       "    .dataframe thead th {\n",
       "        text-align: right;\n",
       "    }\n",
       "</style>\n",
       "<table border=\"1\" class=\"dataframe\">\n",
       "  <thead>\n",
       "    <tr style=\"text-align: right;\">\n",
       "      <th></th>\n",
       "      <th>mean radius</th>\n",
       "      <th>mean texture</th>\n",
       "      <th>mean perimeter</th>\n",
       "      <th>mean area</th>\n",
       "      <th>mean smoothness</th>\n",
       "      <th>mean compactness</th>\n",
       "      <th>mean concavity</th>\n",
       "      <th>mean concave points</th>\n",
       "      <th>mean symmetry</th>\n",
       "      <th>mean fractal dimension</th>\n",
       "      <th>...</th>\n",
       "      <th>worst smoothness</th>\n",
       "      <th>worst compactness</th>\n",
       "      <th>worst concavity</th>\n",
       "      <th>worst concave points</th>\n",
       "      <th>worst symmetry</th>\n",
       "      <th>worst fractal dimension</th>\n",
       "      <th>target</th>\n",
       "      <th>subgroup</th>\n",
       "      <th>true_labels_all</th>\n",
       "      <th>true_labels_subgroup</th>\n",
       "    </tr>\n",
       "  </thead>\n",
       "  <tbody>\n",
       "    <tr>\n",
       "      <th>204</th>\n",
       "      <td>12.47</td>\n",
       "      <td>18.60</td>\n",
       "      <td>81.09</td>\n",
       "      <td>481.9</td>\n",
       "      <td>0.09965</td>\n",
       "      <td>0.10580</td>\n",
       "      <td>0.08005</td>\n",
       "      <td>0.03821</td>\n",
       "      <td>0.1925</td>\n",
       "      <td>0.06373</td>\n",
       "      <td>...</td>\n",
       "      <td>0.1426</td>\n",
       "      <td>0.2378</td>\n",
       "      <td>0.2671</td>\n",
       "      <td>0.10150</td>\n",
       "      <td>0.3014</td>\n",
       "      <td>0.08750</td>\n",
       "      <td>0.0</td>\n",
       "      <td>False</td>\n",
       "      <td>1</td>\n",
       "      <td>NaN</td>\n",
       "    </tr>\n",
       "    <tr>\n",
       "      <th>70</th>\n",
       "      <td>18.94</td>\n",
       "      <td>21.31</td>\n",
       "      <td>123.60</td>\n",
       "      <td>1130.0</td>\n",
       "      <td>0.09009</td>\n",
       "      <td>0.10290</td>\n",
       "      <td>0.10800</td>\n",
       "      <td>0.07951</td>\n",
       "      <td>0.1582</td>\n",
       "      <td>0.05461</td>\n",
       "      <td>...</td>\n",
       "      <td>0.1193</td>\n",
       "      <td>0.2336</td>\n",
       "      <td>0.2687</td>\n",
       "      <td>0.17890</td>\n",
       "      <td>0.2551</td>\n",
       "      <td>0.06589</td>\n",
       "      <td>NaN</td>\n",
       "      <td>True</td>\n",
       "      <td>0</td>\n",
       "      <td>NaN</td>\n",
       "    </tr>\n",
       "    <tr>\n",
       "      <th>131</th>\n",
       "      <td>15.46</td>\n",
       "      <td>19.48</td>\n",
       "      <td>101.70</td>\n",
       "      <td>748.9</td>\n",
       "      <td>0.10920</td>\n",
       "      <td>0.12230</td>\n",
       "      <td>0.14660</td>\n",
       "      <td>0.08087</td>\n",
       "      <td>0.1931</td>\n",
       "      <td>0.05796</td>\n",
       "      <td>...</td>\n",
       "      <td>0.1546</td>\n",
       "      <td>0.2394</td>\n",
       "      <td>0.3791</td>\n",
       "      <td>0.15140</td>\n",
       "      <td>0.2837</td>\n",
       "      <td>0.08019</td>\n",
       "      <td>0.0</td>\n",
       "      <td>True</td>\n",
       "      <td>0</td>\n",
       "      <td>0.0</td>\n",
       "    </tr>\n",
       "    <tr>\n",
       "      <th>431</th>\n",
       "      <td>12.40</td>\n",
       "      <td>17.68</td>\n",
       "      <td>81.47</td>\n",
       "      <td>467.8</td>\n",
       "      <td>0.10540</td>\n",
       "      <td>0.13160</td>\n",
       "      <td>0.07741</td>\n",
       "      <td>0.02799</td>\n",
       "      <td>0.1811</td>\n",
       "      <td>0.07102</td>\n",
       "      <td>...</td>\n",
       "      <td>0.1450</td>\n",
       "      <td>0.2629</td>\n",
       "      <td>0.2403</td>\n",
       "      <td>0.07370</td>\n",
       "      <td>0.2556</td>\n",
       "      <td>0.09359</td>\n",
       "      <td>0.0</td>\n",
       "      <td>False</td>\n",
       "      <td>1</td>\n",
       "      <td>NaN</td>\n",
       "    </tr>\n",
       "    <tr>\n",
       "      <th>540</th>\n",
       "      <td>11.54</td>\n",
       "      <td>14.44</td>\n",
       "      <td>74.65</td>\n",
       "      <td>402.9</td>\n",
       "      <td>0.09984</td>\n",
       "      <td>0.11200</td>\n",
       "      <td>0.06737</td>\n",
       "      <td>0.02594</td>\n",
       "      <td>0.1818</td>\n",
       "      <td>0.06782</td>\n",
       "      <td>...</td>\n",
       "      <td>0.1345</td>\n",
       "      <td>0.2118</td>\n",
       "      <td>0.1797</td>\n",
       "      <td>0.06918</td>\n",
       "      <td>0.2329</td>\n",
       "      <td>0.08134</td>\n",
       "      <td>0.0</td>\n",
       "      <td>False</td>\n",
       "      <td>1</td>\n",
       "      <td>NaN</td>\n",
       "    </tr>\n",
       "    <tr>\n",
       "      <th>...</th>\n",
       "      <td>...</td>\n",
       "      <td>...</td>\n",
       "      <td>...</td>\n",
       "      <td>...</td>\n",
       "      <td>...</td>\n",
       "      <td>...</td>\n",
       "      <td>...</td>\n",
       "      <td>...</td>\n",
       "      <td>...</td>\n",
       "      <td>...</td>\n",
       "      <td>...</td>\n",
       "      <td>...</td>\n",
       "      <td>...</td>\n",
       "      <td>...</td>\n",
       "      <td>...</td>\n",
       "      <td>...</td>\n",
       "      <td>...</td>\n",
       "      <td>...</td>\n",
       "      <td>...</td>\n",
       "      <td>...</td>\n",
       "      <td>...</td>\n",
       "    </tr>\n",
       "    <tr>\n",
       "      <th>141</th>\n",
       "      <td>16.11</td>\n",
       "      <td>18.05</td>\n",
       "      <td>105.10</td>\n",
       "      <td>813.0</td>\n",
       "      <td>0.09721</td>\n",
       "      <td>0.11370</td>\n",
       "      <td>0.09447</td>\n",
       "      <td>0.05943</td>\n",
       "      <td>0.1861</td>\n",
       "      <td>0.06248</td>\n",
       "      <td>...</td>\n",
       "      <td>0.1314</td>\n",
       "      <td>0.2236</td>\n",
       "      <td>0.2802</td>\n",
       "      <td>0.12160</td>\n",
       "      <td>0.2792</td>\n",
       "      <td>0.08158</td>\n",
       "      <td>0.0</td>\n",
       "      <td>False</td>\n",
       "      <td>0</td>\n",
       "      <td>NaN</td>\n",
       "    </tr>\n",
       "    <tr>\n",
       "      <th>498</th>\n",
       "      <td>18.49</td>\n",
       "      <td>17.52</td>\n",
       "      <td>121.30</td>\n",
       "      <td>1068.0</td>\n",
       "      <td>0.10120</td>\n",
       "      <td>0.13170</td>\n",
       "      <td>0.14910</td>\n",
       "      <td>0.09183</td>\n",
       "      <td>0.1832</td>\n",
       "      <td>0.06697</td>\n",
       "      <td>...</td>\n",
       "      <td>0.1412</td>\n",
       "      <td>0.3089</td>\n",
       "      <td>0.3533</td>\n",
       "      <td>0.16630</td>\n",
       "      <td>0.2510</td>\n",
       "      <td>0.09445</td>\n",
       "      <td>0.0</td>\n",
       "      <td>False</td>\n",
       "      <td>0</td>\n",
       "      <td>NaN</td>\n",
       "    </tr>\n",
       "    <tr>\n",
       "      <th>7</th>\n",
       "      <td>13.71</td>\n",
       "      <td>20.83</td>\n",
       "      <td>90.20</td>\n",
       "      <td>577.9</td>\n",
       "      <td>0.11890</td>\n",
       "      <td>0.16450</td>\n",
       "      <td>0.09366</td>\n",
       "      <td>0.05985</td>\n",
       "      <td>0.2196</td>\n",
       "      <td>0.07451</td>\n",
       "      <td>...</td>\n",
       "      <td>0.1654</td>\n",
       "      <td>0.3682</td>\n",
       "      <td>0.2678</td>\n",
       "      <td>0.15560</td>\n",
       "      <td>0.3196</td>\n",
       "      <td>0.11510</td>\n",
       "      <td>NaN</td>\n",
       "      <td>True</td>\n",
       "      <td>0</td>\n",
       "      <td>NaN</td>\n",
       "    </tr>\n",
       "    <tr>\n",
       "      <th>541</th>\n",
       "      <td>14.47</td>\n",
       "      <td>24.99</td>\n",
       "      <td>95.81</td>\n",
       "      <td>656.4</td>\n",
       "      <td>0.08837</td>\n",
       "      <td>0.12300</td>\n",
       "      <td>0.10090</td>\n",
       "      <td>0.03890</td>\n",
       "      <td>0.1872</td>\n",
       "      <td>0.06341</td>\n",
       "      <td>...</td>\n",
       "      <td>0.1340</td>\n",
       "      <td>0.4202</td>\n",
       "      <td>0.4040</td>\n",
       "      <td>0.12050</td>\n",
       "      <td>0.3187</td>\n",
       "      <td>0.10230</td>\n",
       "      <td>1.0</td>\n",
       "      <td>True</td>\n",
       "      <td>1</td>\n",
       "      <td>1.0</td>\n",
       "    </tr>\n",
       "    <tr>\n",
       "      <th>19</th>\n",
       "      <td>13.54</td>\n",
       "      <td>14.36</td>\n",
       "      <td>87.46</td>\n",
       "      <td>566.3</td>\n",
       "      <td>0.09779</td>\n",
       "      <td>0.08129</td>\n",
       "      <td>0.06664</td>\n",
       "      <td>0.04781</td>\n",
       "      <td>0.1885</td>\n",
       "      <td>0.05766</td>\n",
       "      <td>...</td>\n",
       "      <td>0.1440</td>\n",
       "      <td>0.1773</td>\n",
       "      <td>0.2390</td>\n",
       "      <td>0.12880</td>\n",
       "      <td>0.2977</td>\n",
       "      <td>0.07259</td>\n",
       "      <td>0.0</td>\n",
       "      <td>False</td>\n",
       "      <td>1</td>\n",
       "      <td>NaN</td>\n",
       "    </tr>\n",
       "  </tbody>\n",
       "</table>\n",
       "<p>188 rows × 34 columns</p>\n",
       "</div>"
      ],
      "text/plain": [
       "     mean radius  mean texture  mean perimeter  mean area  mean smoothness  \\\n",
       "204        12.47         18.60           81.09      481.9          0.09965   \n",
       "70         18.94         21.31          123.60     1130.0          0.09009   \n",
       "131        15.46         19.48          101.70      748.9          0.10920   \n",
       "431        12.40         17.68           81.47      467.8          0.10540   \n",
       "540        11.54         14.44           74.65      402.9          0.09984   \n",
       "..           ...           ...             ...        ...              ...   \n",
       "141        16.11         18.05          105.10      813.0          0.09721   \n",
       "498        18.49         17.52          121.30     1068.0          0.10120   \n",
       "7          13.71         20.83           90.20      577.9          0.11890   \n",
       "541        14.47         24.99           95.81      656.4          0.08837   \n",
       "19         13.54         14.36           87.46      566.3          0.09779   \n",
       "\n",
       "     mean compactness  mean concavity  mean concave points  mean symmetry  \\\n",
       "204           0.10580         0.08005              0.03821         0.1925   \n",
       "70            0.10290         0.10800              0.07951         0.1582   \n",
       "131           0.12230         0.14660              0.08087         0.1931   \n",
       "431           0.13160         0.07741              0.02799         0.1811   \n",
       "540           0.11200         0.06737              0.02594         0.1818   \n",
       "..                ...             ...                  ...            ...   \n",
       "141           0.11370         0.09447              0.05943         0.1861   \n",
       "498           0.13170         0.14910              0.09183         0.1832   \n",
       "7             0.16450         0.09366              0.05985         0.2196   \n",
       "541           0.12300         0.10090              0.03890         0.1872   \n",
       "19            0.08129         0.06664              0.04781         0.1885   \n",
       "\n",
       "     mean fractal dimension  ...  worst smoothness  worst compactness  \\\n",
       "204                 0.06373  ...            0.1426             0.2378   \n",
       "70                  0.05461  ...            0.1193             0.2336   \n",
       "131                 0.05796  ...            0.1546             0.2394   \n",
       "431                 0.07102  ...            0.1450             0.2629   \n",
       "540                 0.06782  ...            0.1345             0.2118   \n",
       "..                      ...  ...               ...                ...   \n",
       "141                 0.06248  ...            0.1314             0.2236   \n",
       "498                 0.06697  ...            0.1412             0.3089   \n",
       "7                   0.07451  ...            0.1654             0.3682   \n",
       "541                 0.06341  ...            0.1340             0.4202   \n",
       "19                  0.05766  ...            0.1440             0.1773   \n",
       "\n",
       "     worst concavity  worst concave points  worst symmetry  \\\n",
       "204           0.2671               0.10150          0.3014   \n",
       "70            0.2687               0.17890          0.2551   \n",
       "131           0.3791               0.15140          0.2837   \n",
       "431           0.2403               0.07370          0.2556   \n",
       "540           0.1797               0.06918          0.2329   \n",
       "..               ...                   ...             ...   \n",
       "141           0.2802               0.12160          0.2792   \n",
       "498           0.3533               0.16630          0.2510   \n",
       "7             0.2678               0.15560          0.3196   \n",
       "541           0.4040               0.12050          0.3187   \n",
       "19            0.2390               0.12880          0.2977   \n",
       "\n",
       "     worst fractal dimension  target  subgroup  true_labels_all  \\\n",
       "204                  0.08750     0.0     False                1   \n",
       "70                   0.06589     NaN      True                0   \n",
       "131                  0.08019     0.0      True                0   \n",
       "431                  0.09359     0.0     False                1   \n",
       "540                  0.08134     0.0     False                1   \n",
       "..                       ...     ...       ...              ...   \n",
       "141                  0.08158     0.0     False                0   \n",
       "498                  0.09445     0.0     False                0   \n",
       "7                    0.11510     NaN      True                0   \n",
       "541                  0.10230     1.0      True                1   \n",
       "19                   0.07259     0.0     False                1   \n",
       "\n",
       "     true_labels_subgroup  \n",
       "204                   NaN  \n",
       "70                    NaN  \n",
       "131                   0.0  \n",
       "431                   NaN  \n",
       "540                   NaN  \n",
       "..                    ...  \n",
       "141                   NaN  \n",
       "498                   NaN  \n",
       "7                     NaN  \n",
       "541                   1.0  \n",
       "19                    NaN  \n",
       "\n",
       "[188 rows x 34 columns]"
      ]
     },
     "execution_count": 35,
     "metadata": {},
     "output_type": "execute_result"
    }
   ],
   "source": [
    "df_test"
   ]
  },
  {
   "cell_type": "markdown",
   "id": "d4e4f12a",
   "metadata": {},
   "source": [
    "## Find Optimal Threshold"
   ]
  },
  {
   "cell_type": "code",
   "execution_count": 15,
   "id": "88fd1da475294161",
   "metadata": {
    "ExecuteTime": {
     "end_time": "2024-03-19T14:39:25.719611Z",
     "start_time": "2024-03-19T14:39:25.676261Z"
    }
   },
   "outputs": [
    {
     "name": "stdout",
     "output_type": "stream",
     "text": [
      "Optimal threshold: 0.009736701184927221\n"
     ]
    }
   ],
   "source": [
    "optimal_threshold = calculate_optimal_threshold(y_test, y_probs)\n",
    "print(\"Optimal threshold:\", optimal_threshold)\n",
    "y_preds=(y_probs>=optimal_threshold).astype(int)"
   ]
  },
  {
   "cell_type": "code",
   "execution_count": 16,
   "id": "785ca65720323714",
   "metadata": {
    "ExecuteTime": {
     "end_time": "2024-03-19T14:48:35.190634Z",
     "start_time": "2024-03-19T14:48:35.181724Z"
    }
   },
   "outputs": [],
   "source": [
    "y_true_sub=df_sub_test['true_labels_all']"
   ]
  },
  {
   "cell_type": "code",
   "execution_count": 17,
   "id": "599757a55b4336dc",
   "metadata": {
    "ExecuteTime": {
     "end_time": "2024-03-19T14:50:47.269533Z",
     "start_time": "2024-03-19T14:50:47.262234Z"
    }
   },
   "outputs": [],
   "source": [
    "y_preds_sub0=y_preds[df_test['subgroup']].astype(int)"
   ]
  },
  {
   "cell_type": "markdown",
   "id": "0165378a",
   "metadata": {},
   "source": [
    "# Confusion Matrix using Optimal Threshold"
   ]
  },
  {
   "cell_type": "code",
   "execution_count": 18,
   "id": "5ffe63f4a161ce5f",
   "metadata": {
    "ExecuteTime": {
     "end_time": "2024-03-19T14:51:06.936496Z",
     "start_time": "2024-03-19T14:51:06.931966Z"
    }
   },
   "outputs": [
    {
     "data": {
      "text/plain": [
       "array([[39, 15],\n",
       "       [ 0, 10]], dtype=int64)"
      ]
     },
     "execution_count": 18,
     "metadata": {},
     "output_type": "execute_result"
    }
   ],
   "source": [
    "confusion_matrix(y_true_sub, y_preds_sub0)"
   ]
  },
  {
   "cell_type": "code",
   "execution_count": 19,
   "id": "c000d42a7cecff67",
   "metadata": {
    "ExecuteTime": {
     "end_time": "2024-03-19T14:55:15.197206Z",
     "start_time": "2024-03-19T14:55:15.190001Z"
    }
   },
   "outputs": [
    {
     "name": "stdout",
     "output_type": "stream",
     "text": [
      "              precision    recall  f1-score   support\n",
      "\n",
      "           0       1.00      0.72      0.84        54\n",
      "           1       0.40      1.00      0.57        10\n",
      "\n",
      "    accuracy                           0.77        64\n",
      "   macro avg       0.70      0.86      0.71        64\n",
      "weighted avg       0.91      0.77      0.80        64\n",
      "\n"
     ]
    }
   ],
   "source": [
    "print(classification_report(y_true_sub, y_preds_sub0))"
   ]
  },
  {
   "cell_type": "markdown",
   "id": "45f86fdc",
   "metadata": {},
   "source": [
    "# train out of box LR model"
   ]
  },
  {
   "cell_type": "code",
   "execution_count": 44,
   "id": "b48daf42",
   "metadata": {},
   "outputs": [
    {
     "name": "stderr",
     "output_type": "stream",
     "text": [
      "C:\\Users\\drdre\\.conda\\envs\\tensorflowcpu_20220413\\lib\\site-packages\\sklearn\\utils\\validation.py:1111: DataConversionWarning: A column-vector y was passed when a 1d array was expected. Please change the shape of y to (n_samples, ), for example using ravel().\n",
      "  y = column_or_1d(y, warn=True)\n"
     ]
    }
   ],
   "source": [
    "\n",
    "from sklearn.linear_model import LogisticRegression\n",
    "\n",
    "clf = LogisticRegression(random_state=0).fit(X_train, y_train.values.reshape(-1, 1))\n",
    "\n",
    "y_lr_proba=clf.predict_proba(X_test)[:,1:][df_test['subgroup']]\n",
    "#clf.score(X_test, y_test.values.reshape(-1, 1))\n"
   ]
  },
  {
   "cell_type": "markdown",
   "id": "58cf1541",
   "metadata": {},
   "source": [
    "# AUC for PU learning model"
   ]
  },
  {
   "cell_type": "code",
   "execution_count": 43,
   "id": "359d01a9",
   "metadata": {},
   "outputs": [
    {
     "data": {
      "text/plain": [
       "0.9111111111111111"
      ]
     },
     "execution_count": 43,
     "metadata": {},
     "output_type": "execute_result"
    }
   ],
   "source": [
    "from sklearn.metrics import roc_auc_score\n",
    "roc_auc_score(y_true_sub,y_probs[df_test['subgroup']])"
   ]
  },
  {
   "cell_type": "markdown",
   "id": "28e14182",
   "metadata": {},
   "source": [
    "# AUC for Standard LR model"
   ]
  },
  {
   "cell_type": "code",
   "execution_count": 45,
   "id": "ed6b9824",
   "metadata": {},
   "outputs": [
    {
     "data": {
      "text/plain": [
       "0.9055555555555556"
      ]
     },
     "execution_count": 45,
     "metadata": {},
     "output_type": "execute_result"
    }
   ],
   "source": [
    "from sklearn.metrics import roc_auc_score\n",
    "roc_auc_score(y_true_sub,y_lr_proba)"
   ]
  },
  {
   "cell_type": "markdown",
   "id": "3962c26c",
   "metadata": {},
   "source": [
    "# get Optimal Threshold for LR Model"
   ]
  },
  {
   "cell_type": "code",
   "execution_count": 46,
   "id": "3a92b6fe",
   "metadata": {
    "ExecuteTime": {
     "end_time": "2024-03-19T14:54:04.375854Z",
     "start_time": "2024-03-19T14:54:04.369491Z"
    }
   },
   "outputs": [
    {
     "name": "stdout",
     "output_type": "stream",
     "text": [
      "Optimal threshold for subgroup: 0.008305951046409661\n"
     ]
    }
   ],
   "source": [
    "# Get the test instances that belong to the subgroup\n",
    "X_test_subgroup = X_test[df_test['subgroup']]\n",
    "y_test_subgroup = y_test[df_test['subgroup']]\n",
    "\n",
    "# Get the predicted probabilities for the subgroup\n",
    "y_probs_subgroup = clf.predict_proba(X_test_subgroup)[:, 1:]\n",
    "\n",
    "# Calculate the optimal threshold for the subgroup\n",
    "optimal_threshold_subgroup = calculate_optimal_threshold(y_test_subgroup, y_probs_subgroup)\n",
    "print(\"Optimal threshold for subgroup:\", optimal_threshold_subgroup)\n",
    "\n",
    "# Get the predictions for the subgroup using the new threshold\n",
    "y_preds_subgroup = (y_probs_subgroup >= optimal_threshold_subgroup).astype(int)"
   ]
  },
  {
   "cell_type": "markdown",
   "id": "aa474415",
   "metadata": {},
   "source": [
    "# confusion Matrix for LR model"
   ]
  },
  {
   "cell_type": "code",
   "execution_count": 47,
   "id": "67df56b5b6aceb7a",
   "metadata": {
    "ExecuteTime": {
     "end_time": "2024-03-19T14:54:40.421049Z",
     "start_time": "2024-03-19T14:54:40.415369Z"
    }
   },
   "outputs": [
    {
     "data": {
      "text/plain": [
       "array([[39, 19],\n",
       "       [ 0,  6]], dtype=int64)"
      ]
     },
     "execution_count": 47,
     "metadata": {},
     "output_type": "execute_result"
    }
   ],
   "source": [
    "confusion_matrix(y_test_subgroup, y_preds_subgroup)"
   ]
  },
  {
   "cell_type": "markdown",
   "id": "ae8273af",
   "metadata": {},
   "source": [
    "# confusion Matrix for PU Learning model"
   ]
  },
  {
   "cell_type": "code",
   "execution_count": 18,
   "id": "0c072342",
   "metadata": {
    "ExecuteTime": {
     "end_time": "2024-03-19T14:51:06.936496Z",
     "start_time": "2024-03-19T14:51:06.931966Z"
    }
   },
   "outputs": [
    {
     "data": {
      "text/plain": [
       "array([[39, 15],\n",
       "       [ 0, 10]], dtype=int64)"
      ]
     },
     "execution_count": 18,
     "metadata": {},
     "output_type": "execute_result"
    }
   ],
   "source": [
    "confusion_matrix(y_true_sub, y_preds_sub0)"
   ]
  },
  {
   "cell_type": "markdown",
   "id": "eba4337f",
   "metadata": {},
   "source": [
    "#  Brief Discussion\n",
    "\n",
    "The SAR propensity model modestly outperforms standard logistic regression, based on AUC, which translates naturally to Confusion Matrix when using optimal thresholds. However, it outperforms in an interesting and important way. The detection of positives is superior by a significant margin (~40%). "
   ]
  },
  {
   "cell_type": "code",
   "execution_count": null,
   "id": "cc3fcbf4",
   "metadata": {},
   "outputs": [],
   "source": []
  }
 ],
 "metadata": {
  "kernelspec": {
   "display_name": "Python 3",
   "language": "python",
   "name": "python3"
  },
  "language_info": {
   "codemirror_mode": {
    "name": "ipython",
    "version": 3
   },
   "file_extension": ".py",
   "mimetype": "text/x-python",
   "name": "python",
   "nbconvert_exporter": "python",
   "pygments_lexer": "ipython3",
   "version": "3.8.10"
  }
 },
 "nbformat": 4,
 "nbformat_minor": 5
}
